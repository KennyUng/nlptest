{
 "cells": [
  {
   "cell_type": "code",
   "execution_count": 2,
   "metadata": {},
   "outputs": [],
   "source": [
    "import pandas as pd\n",
    "import spacy_annotator as spa\n",
    "import spacy"
   ]
  },
  {
   "cell_type": "code",
   "execution_count": 26,
   "metadata": {},
   "outputs": [
    {
     "data": {
      "text/html": [
       "<div>\n",
       "<style scoped>\n",
       "    .dataframe tbody tr th:only-of-type {\n",
       "        vertical-align: middle;\n",
       "    }\n",
       "\n",
       "    .dataframe tbody tr th {\n",
       "        vertical-align: top;\n",
       "    }\n",
       "\n",
       "    .dataframe thead th {\n",
       "        text-align: right;\n",
       "    }\n",
       "</style>\n",
       "<table border=\"1\" class=\"dataframe\">\n",
       "  <thead>\n",
       "    <tr style=\"text-align: right;\">\n",
       "      <th></th>\n",
       "      <th>text</th>\n",
       "    </tr>\n",
       "  </thead>\n",
       "  <tbody>\n",
       "    <tr>\n",
       "      <th>0</th>\n",
       "      <td>For the uninitiated, typical bowls of ramen ha...</td>\n",
       "    </tr>\n",
       "    <tr>\n",
       "      <th>1</th>\n",
       "      <td>Broth variations include miso, shoyo (soy sauc...</td>\n",
       "    </tr>\n",
       "    <tr>\n",
       "      <th>2</th>\n",
       "      <td>Our initial Japanese ramen experience at Ramen...</td>\n",
       "    </tr>\n",
       "    <tr>\n",
       "      <th>3</th>\n",
       "      <td>Sushi is simply sliced raw fish served atop a ...</td>\n",
       "    </tr>\n",
       "    <tr>\n",
       "      <th>4</th>\n",
       "      <td>Adventurous food travelers will want to try co...</td>\n",
       "    </tr>\n",
       "    <tr>\n",
       "      <th>...</th>\n",
       "      <td>...</td>\n",
       "    </tr>\n",
       "    <tr>\n",
       "      <th>82</th>\n",
       "      <td>Okinawa soba is an anomaly. Even though soba t...</td>\n",
       "    </tr>\n",
       "    <tr>\n",
       "      <th>83</th>\n",
       "      <td>Okinawa soba is also delicious as we experienc...</td>\n",
       "    </tr>\n",
       "    <tr>\n",
       "      <th>84</th>\n",
       "      <td>Not surprising based on its name that literall...</td>\n",
       "    </tr>\n",
       "    <tr>\n",
       "      <th>85</th>\n",
       "      <td>Rolling up our sleeves, we joined two friends ...</td>\n",
       "    </tr>\n",
       "    <tr>\n",
       "      <th>86</th>\n",
       "      <td>Some of our favorites dishes include yakitori,...</td>\n",
       "    </tr>\n",
       "  </tbody>\n",
       "</table>\n",
       "<p>87 rows × 1 columns</p>\n",
       "</div>"
      ],
      "text/plain": [
       "                                                 text\n",
       "0   For the uninitiated, typical bowls of ramen ha...\n",
       "1   Broth variations include miso, shoyo (soy sauc...\n",
       "2   Our initial Japanese ramen experience at Ramen...\n",
       "3   Sushi is simply sliced raw fish served atop a ...\n",
       "4   Adventurous food travelers will want to try co...\n",
       "..                                                ...\n",
       "82  Okinawa soba is an anomaly. Even though soba t...\n",
       "83  Okinawa soba is also delicious as we experienc...\n",
       "84  Not surprising based on its name that literall...\n",
       "85  Rolling up our sleeves, we joined two friends ...\n",
       "86  Some of our favorites dishes include yakitori,...\n",
       "\n",
       "[87 rows x 1 columns]"
      ]
     },
     "execution_count": 26,
     "metadata": {},
     "output_type": "execute_result"
    }
   ],
   "source": [
    "df = pd.DataFrame({\n",
    "    \"text\": [\n",
    "        \"For the uninitiated, typical bowls of ramen have savory broth, toothy wheat noodles, chāsū (pork), nori (seaweed), scallions and a softly boiled egg.\",\n",
    "        \"Broth variations include miso, shoyo (soy sauce), shio (salt) and tonkotsu (pork bone).\",\n",
    "        \"Our initial Japanese ramen experience at Ramen Street in Tokyo hooked us in but our ramen infatuation became a ramen obsession in Osaka\",\n",
    "        \"Sushi is simply sliced raw fish served atop a mound of steamed rice that’s been seasoned with vinegar.\",\n",
    "        \"Adventurous food travelers will want to try conveyor belt sushi in Japan both for the quirky experience and the variety of raw fish.\",\n",
    "        \"Popular options include ebi nigiri (shrimp) hamachi (yellowtail), ikura (salmon roe), maguro nigiri (tuna), sake nigiri (salmon), toro (tuna belly) and uni (sea urchin).\",\n",
    "        \"Don’t add wasabi, soy sauce or ginger to sushi at any high end sushi counter in Japan.\",\n",
    "        \"People outside of Japan tend to lump sushi and sashimi together.\",\n",
    "        \"Unlike sushi, sashimi does NOT have any rice.\",\n",
    "        \"The only ingredient in sashimi is thinly sliced raw fish.\",\n",
    "        \"Typical garnishes include daikon slivers and shiso leaves.\",\n",
    "        \"the finest Japanese sashimi typically involves raw fish and seafood like ebi (shrimp), hamachi (yellowtail), eka (squid), maguro (tuna) and sake (salmon).\",\n",
    "        \"Eating unagi (freshwater eel) at a sushi restaurant is a great alternative for people who don’t eat raw fish.\",\n",
    "        \"One popular option is to eat unagi over a bowl of rice in a donburi dish called unadon.\",\n",
    "        \"there’s no better way to eat unagi in Japan than the way we ate it in Osaka sushi bars – full of flavor and on top of rice.\",\n",
    "        \"Although tempura is deep fried, it doesn’t taste greasy and it’s not messy to eat.\",\n",
    "        \"Japanese chefs prepare tempura by precisely cutting ingredients like shrimp, shiitake mushrooms, lotus roots and shishito peppers before lightly coating them with batter and frying them in sesame oil.\",\n",
    "        \"The Japanese learned the art of tempura from Portuguese missionaries who traveled to Japan in the 16th century.\",\n",
    "        \"Yakitori became part of Japanese cuisine in the 19th century when street stalls starting grilling skewered chicken pieces over charcoal.\",\n",
    "        \"Fast forward to the present and yakitori is now a staple at restaurants throughout the country.\",\n",
    "        \"Anthony Bourdain introduced Japanese yakitori to the western masses when he ate chicken skewers at Toriki in his Tokyo No Reservations episode.\",\n",
    "        \"Unlike Bourdain, we stuck with yakitori and skipped eating chicken sashimi during our meal.\",\n",
    "        \"Not limited to thighs and breasts, Japanese chefs grill skewered chicken hearts and cartilage, among other parts, over white binchotan charcoal to various levels of doneness.\",\n",
    "        \"If you confuse udon with ramen, you’re not far off the mark.\",\n",
    "        \"But make no mistake, ramen and udon are as different as they are similar.\",\n",
    "        \"For starters, udon noodles are thicker in size and whiter in appearance.\",\n",
    "        \"They’re often served in a simple dashi broth, though other various iterations, both hot and cold, feature eggs, stewed meat, curry and even shrimp tempura.\",\n",
    "        \"While we ate udon for breakfast at a popular Osaka fish market stall, the Japanese eat udon at all hours of the day and night.\",\n",
    "        \"Soba literally translates to buckwheat and that’s exactly the type of noodle used in this dish.\",\n",
    "        \"Made with buckwheat flour as advertised, soba noodles are both longer and thinner than ramen and udon noodles.\",\n",
    "        \"Japanese restaurants serve soba noodles both hot and chilled, often with tsuyu dipping sauce.\",\n",
    "        \"Simultaneously earthy and nutty, soba proves that ramen and udon aren’t the only noodles worth eating in Japan.\",\n",
    "        \"Agedashi dōfu lives up to a name that translates to fried tofu.\",\n",
    "        \"But this dish is more than its name implies since Japanese chefs add touches like spring onions and dried bonito flakes as well as savory tentsuyu broth.\",\n",
    "        \"Both vegetarians and carnivores have been eating creamy, soft agedashi dōfu for centuries in Japan.\",\n",
    "        \"Most food travelers don’t associate curry with Japan.\",\n",
    "        \"However, Japanese Curry is ridiculously popular in Japanese cities like Osaka and Tokyo.\",\n",
    "        \"The Japanese made the dish their own by creating curries with short-grain rice as well as local meats and vegetables.\",\n",
    "        \"we returned multiple times to eat tasty Japanese Curry topped with fried tonkatsu pork.\",\n",
    "        \"By adding sides of pickled vegetables and miso soup, we turned the cheap eats dish into a satisfying meal.\",\n",
    "        \"Coveted around the world for its fabulously fatty texture and umami-filled flavor, Wagyu beef is the meat to eat in Japan.\",\n",
    "        \"And though Kobe beef produced in the Hyōgo prefecture, not far from Osaka, is the most famous Wagyu beef produced, there are all kinds and grades of excellent Wagyu throughout the country.\",\n",
    "        \"Marbling provides the fatty texture that distinguishes Wagyu beef from beef produced in other Asian countries and throughout Europe.\",\n",
    "        \"A combination of dashi stock and miso bean paste, miso soup is a popular starter at Japanese restaurants around the world.\",\n",
    "        \"While basic miso soup has tofu chunks and green onion slices, better versions add veggies and proteins to the mix.\",\n",
    "        \"Our favorite miso soup in Tokyo was filled with baby cockles (clams), a briny addition that elevated the basic broth to something truly special.\",\n",
    "        \"Custard fans won’t want to miss chawanmushi in Japan.\",\n",
    "        \"Unlike desserts like Spanish flan and Portuguese pasteis de nata, this Japanese egg custard is more of a savory meal starter.\",\n",
    "        \"Beyond eggs, chawanmushi ingredients include dashi, mirin and soy sauce, the same three ingredients in tentsuyu sauce.\",\n",
    "        \"Some Japanese chefs add bonus items like shiitake mushrooms and shrimp.\",\n",
    "        \"Gyoza is yet another Japanese dish with Chinese origins.\",\n",
    "        \"But, unlike ramen and soba, this dish features dumplings instead of noodles.\",\n",
    "        \"Typically filled with a ground pork mixture, gyoza dumplings can be boiled or deep fried.\",\n",
    "        \"However, pan frying is the most popular preparation with ramen shops and izakayas serving crispy pan fried dumplings across the country.\",\n",
    "        \"Without a doubt, Takoyaki belongs in the Japanese street food hall of fame.\",\n",
    "        \"Literally translating to ‘octopus balls’, takoyaki are little treats filled with octopus meat that vendors have been frying in special pans for almost a century.\",\n",
    "        \"We first tasted takoyaki in Hong Kong in 2009 before rediscovering the tasty octopus balls in Kyoto in 2013 and falling for them in Osaka in 2016.\",\n",
    "        \"Part of the fun of eating takoyaki is to enjoy them piping hot, just off the grill.\",\n",
    "        \"Why eat ‘meat on a stick’ at home when you can eat kushikatsu in Japan?\",\n",
    "        \"Kushikatsu takes the street food concept to the next level by deep frying skewered meat cutlets, seafood and veggies like bamboo shoots, lotus roots and asparagus spears.\",\n",
    "        \"Later, we learned that this neighborhood was where the concept of eating fried treats coated with panko batter originated.\",\n",
    "        \"Japan’s Okonomiyaki is a pancake unlike any other we’ve encountered in the world\",\n",
    "        \"Made with wheat flour batter, julienned cabbage and bacon, this savory pancake typically has toppings like bonito flakes, seaweed flakes, mayonnaise and pickled ginger.\",\n",
    "        \"Not surprisingly, food historians trace the Okonomiyaki‘s origin to Osaka, Japan’s kitchen and a haven for junk food junkies.\",\n",
    "        \"A katsu sando is a fried cutlet sandwich that’s often but not always made with pork.\",\n",
    "        \"Other katsu sando varieties like chicken can be equally tasty while variations like fried wagyu elevate the katsu sando to luxury status.\",\n",
    "        \"With this in mind, we took a special trip to a recommended tamago katsu sando at Kitashin Chisand in Osaka.\",\n",
    "        \"Eating a sandwich filled with breaded and fried egg salad was a unique experience and one worthy of that special trip.\",\n",
    "        \"rice balls called onigiri have been popular with samurai soldiers and commuting citizens for two millennia.\",\n",
    "        \"these rice balls are a convenience store staple often filled with tasty bits and occasionally wrapped in nori (seaweed).\",\n",
    "        \"We ate enough onigiri to find our favorites which typically involved raw tuna or salmon.\",\n",
    "        \"Other popular fillings include pickled plums, tempura and bonito flakes.\",\n",
    "        \"Pork fans won’t want to miss tonkatsu in Japan.\",\n",
    "        \"The good news is that it’s easy to find tonkatsu at snack stands, ramen bars and curry shops.\",\n",
    "        \"The better news is that Japanese breaded and fried pork cutlets taste good on their own, in soup or with rice.\",\n",
    "        \"Not your typical lollipop, a tako tamago is a skewer topped with a glazed baby octopus, but not just any glazed baby octopus.\",\n",
    "        \"These octopuses have boiled quail eggs stuffed inside their heads.\",\n",
    "        \"When we first encountered a tako tamago stand at the Nishiki Market in Kyoto, of course we had to taste this unique skewer.\",\n",
    "        \"Despite its shape and name, a typical taiyaki doesn’t taste fishy.\",\n",
    "        \"Another irony is that the taiyaki is isn’t savory like the other Japanese street food featured in this guide.\",\n",
    "        \"Instead, the fish-shaped cake has sweet fillings like red bean paste, sweet potato paste, chocolate and custard.\",\n",
    "        \"Starting with flavorful pork bone broth, Hakata ramen has thin noodles that could be quickly prepared for those original fishing customers.\",\n",
    "        \"Okinawa soba is an anomaly. Even though soba translates to ‘buckwheat’, this regional soup features wheat noodles.\",\n",
    "        \"Okinawa soba is also delicious as we experienced during our visit to Naha.\",\n",
    "        \"Not surprising based on its name that literally translates to ‘grilled meat’, a yakiniku dinner involves grilling meat on a tableside griddle.\",\n",
    "        \"Rolling up our sleeves, we joined two friends at an Osaka restaurant for a yakiniku dinner filled with freshly grilled Wagyu steak and sides like Japanese agedashi dōfu and Korean kimchi.\",\n",
    "        \"Some of our favorites dishes include yakitori, tamagoyaki (egg omelettes), kara-age (fried chicken) and fried potatoes.\",\n",
    "        \n",
    "    ]\n",
    "})\n",
    "\n",
    "df"
   ]
  },
  {
   "cell_type": "code",
   "execution_count": 27,
   "metadata": {},
   "outputs": [],
   "source": [
    "nlp = spacy.load(\"en_core_web_lg\")"
   ]
  },
  {
   "cell_type": "code",
   "execution_count": 28,
   "metadata": {},
   "outputs": [],
   "source": [
    "annotator = spa.Annotator(labels=[\"FOOD\", \"ING\"], model=nlp)"
   ]
  },
  {
   "cell_type": "code",
   "execution_count": 29,
   "metadata": {},
   "outputs": [
    {
     "data": {
      "application/vnd.jupyter.widget-view+json": {
       "model_id": "e5afb170d4f74f1692ed862452a7966a",
       "version_major": 2,
       "version_minor": 0
      },
      "text/plain": [
       "HTML(value='-1 examples annotated, 88 examples left')"
      ]
     },
     "metadata": {},
     "output_type": "display_data"
    },
    {
     "data": {
      "application/vnd.jupyter.widget-view+json": {
       "model_id": "c606b05cb20a410cbcccfdcb51c4927e",
       "version_major": 2,
       "version_minor": 0
      },
      "text/plain": [
       "Text(value='', description='FOOD', layout=Layout(width='auto'), placeholder='ent one, ent two, ent three')"
      ]
     },
     "metadata": {},
     "output_type": "display_data"
    },
    {
     "data": {
      "application/vnd.jupyter.widget-view+json": {
       "model_id": "ba0286debc5548b6812069b9d9f9e9e5",
       "version_major": 2,
       "version_minor": 0
      },
      "text/plain": [
       "Text(value='', description='ING', layout=Layout(width='auto'), placeholder='ent one, ent two, ent three')"
      ]
     },
     "metadata": {},
     "output_type": "display_data"
    },
    {
     "data": {
      "application/vnd.jupyter.widget-view+json": {
       "model_id": "a31fb6eddbad43f6bff33511636cd0a0",
       "version_major": 2,
       "version_minor": 0
      },
      "text/plain": [
       "HBox(children=(Button(button_style='success', description='submit', style=ButtonStyle()), Button(button_style=…"
      ]
     },
     "metadata": {},
     "output_type": "display_data"
    },
    {
     "data": {
      "application/vnd.jupyter.widget-view+json": {
       "model_id": "ceb0cf8101234abcb164884a54d76d70",
       "version_major": 2,
       "version_minor": 0
      },
      "text/plain": [
       "Output()"
      ]
     },
     "metadata": {},
     "output_type": "display_data"
    }
   ],
   "source": [
    "df_labels = annotator.annotate(df=df, col_text=\"text\", shuffle=True)"
   ]
  },
  {
   "cell_type": "code",
   "execution_count": 31,
   "metadata": {},
   "outputs": [
    {
     "data": {
      "text/plain": [
       "('Pork fans won’t want to miss tonkatsu in Japan.',\n",
       " {'entities': [(29, 37, 'FOOD'), (0, 4, 'ING')]})"
      ]
     },
     "metadata": {},
     "output_type": "display_data"
    }
   ],
   "source": [
    "display(df_labels.iloc[1][\"annotations\"])"
   ]
  },
  {
   "cell_type": "code",
   "execution_count": 36,
   "metadata": {},
   "outputs": [],
   "source": [
    "training_data = df_labels[\"annotations\"].to_list()"
   ]
  },
  {
   "cell_type": "code",
   "execution_count": 37,
   "metadata": {},
   "outputs": [
    {
     "data": {
      "text/plain": [
       "[('Literally translating to ‘octopus balls’, takoyaki are little treats filled with octopus meat that vendors have been frying in special pans for almost a century.',\n",
       "  {'entities': [(42, 50, 'FOOD'), (26, 33, 'ING'), (81, 88, 'ING')]}),\n",
       " ('Pork fans won’t want to miss tonkatsu in Japan.',\n",
       "  {'entities': [(29, 37, 'FOOD'), (0, 4, 'ING')]}),\n",
       " ('The only ingredient in sashimi is thinly sliced raw fish.',\n",
       "  {'entities': [(23, 30, 'FOOD'), (52, 56, 'ING')]}),\n",
       " ('Kushikatsu takes the street food concept to the next level by deep frying skewered meat cutlets, seafood and veggies like bamboo shoots, lotus roots and asparagus spears.',\n",
       "  {'entities': [(0, 10, 'FOOD'),\n",
       "    (83, 87, 'ING'),\n",
       "    (97, 104, 'ING'),\n",
       "    (109, 116, 'ING'),\n",
       "    (122, 135, 'ING'),\n",
       "    (137, 148, 'ING'),\n",
       "    (153, 162, 'ING')]}),\n",
       " ('Typical garnishes include daikon slivers and shiso leaves.',\n",
       "  {'entities': [(26, 32, 'ING'), (45, 50, 'ING')]}),\n",
       " ('rice balls called onigiri have been popular with samurai soldiers and commuting citizens for two millennia.',\n",
       "  {'entities': [(18, 25, 'FOOD'), (0, 4, 'ING')]}),\n",
       " ('While we ate udon for breakfast at a popular Osaka fish market stall, the Japanese eat udon at all hours of the day and night.',\n",
       "  {'entities': [(13, 17, 'FOOD'), (87, 91, 'FOOD'), (51, 55, 'ING')]}),\n",
       " ('A combination of dashi stock and miso bean paste, miso soup is a popular starter at Japanese restaurants around the world.',\n",
       "  {'entities': [(50, 59, 'FOOD'), (17, 28, 'ING'), (33, 48, 'ING')]}),\n",
       " ('Our favorite miso soup in Tokyo was filled with baby cockles (clams), a briny addition that elevated the basic broth to something truly special.',\n",
       "  {'entities': [(13, 22, 'FOOD'),\n",
       "    (53, 60, 'ING'),\n",
       "    (62, 67, 'ING'),\n",
       "    (111, 116, 'ING')]}),\n",
       " ('Okinawa soba is also delicious as we experienced during our visit to Naha.',\n",
       "  {'entities': [(8, 12, 'FOOD')]}),\n",
       " ('Made with wheat flour batter, julienned cabbage and bacon, this savory pancake typically has toppings like bonito flakes, seaweed flakes, mayonnaise and pickled ginger.',\n",
       "  {'entities': [(71, 78, 'FOOD'),\n",
       "    (10, 15, 'ING'),\n",
       "    (40, 47, 'ING'),\n",
       "    (52, 57, 'ING'),\n",
       "    (107, 120, 'ING'),\n",
       "    (122, 136, 'ING'),\n",
       "    (138, 148, 'ING'),\n",
       "    (153, 167, 'ING')]}),\n",
       " ('Fast forward to the present and yakitori is now a staple at restaurants throughout the country.',\n",
       "  {'entities': [(32, 40, 'FOOD')]}),\n",
       " ('Made with buckwheat flour as advertised, soba noodles are both longer and thinner than ramen and udon noodles.',\n",
       "  {'entities': [(41, 45, 'FOOD'), (87, 92, 'FOOD'), (20, 25, 'ING')]}),\n",
       " ('Soba literally translates to buckwheat and that’s exactly the type of noodle used in this dish.',\n",
       "  {'entities': [(0, 4, 'FOOD'), (70, 76, 'FOOD'), (29, 38, 'ING')]}),\n",
       " ('Adventurous food travelers will want to try conveyor belt sushi in Japan both for the quirky experience and the variety of raw fish.',\n",
       "  {'entities': [(58, 63, 'FOOD'), (127, 131, 'ING')]}),\n",
       " ('And though Kobe beef produced in the Hyōgo prefecture, not far from Osaka, is the most famous Wagyu beef produced, there are all kinds and grades of excellent Wagyu throughout the country.',\n",
       "  {'entities': [(16, 20, 'FOOD'),\n",
       "    (94, 99, 'FOOD'),\n",
       "    (100, 104, 'FOOD'),\n",
       "    (159, 164, 'FOOD')]}),\n",
       " ('Later, we learned that this neighborhood was where the concept of eating fried treats coated with panko batter originated.',\n",
       "  {'entities': [(98, 110, 'ING')]}),\n",
       " ('Other popular fillings include pickled plums, tempura and bonito flakes.',\n",
       "  {'entities': [(31, 44, 'ING'), (46, 53, 'ING'), (58, 71, 'ING')]}),\n",
       " ('Broth variations include miso, shoyo (soy sauce), shio (salt) and tonkotsu (pork bone).',\n",
       "  {'entities': [(25, 29, 'ING'),\n",
       "    (31, 36, 'ING'),\n",
       "    (38, 47, 'ING'),\n",
       "    (50, 54, 'ING'),\n",
       "    (56, 60, 'ING'),\n",
       "    (66, 74, 'ING'),\n",
       "    (76, 85, 'ING')]}),\n",
       " ('Gyoza is yet another Japanese dish with Chinese origins.',\n",
       "  {'entities': [(0, 5, 'FOOD')]}),\n",
       " ('Rolling up our sleeves, we joined two friends at an Osaka restaurant for a yakiniku dinner filled with freshly grilled Wagyu steak and sides like Japanese agedashi dōfu and Korean kimchi.',\n",
       "  {'entities': [(75, 83, 'FOOD'),\n",
       "    (119, 124, 'FOOD'),\n",
       "    (125, 130, 'FOOD'),\n",
       "    (155, 168, 'FOOD'),\n",
       "    (180, 186, 'FOOD')]}),\n",
       " ('Instead, the fish-shaped cake has sweet fillings like red bean paste, sweet potato paste, chocolate and custard.',\n",
       "  {'entities': [(25, 29, 'FOOD'),\n",
       "    (54, 68, 'ING'),\n",
       "    (70, 88, 'ING'),\n",
       "    (90, 99, 'ING'),\n",
       "    (104, 111, 'ING')]}),\n",
       " ('the finest Japanese sashimi typically involves raw fish and seafood like ebi (shrimp), hamachi (yellowtail), eka (squid), maguro (tuna) and sake (salmon).',\n",
       "  {'entities': [(20, 27, 'FOOD'),\n",
       "    (51, 55, 'ING'),\n",
       "    (78, 84, 'ING'),\n",
       "    (96, 106, 'ING'),\n",
       "    (114, 119, 'ING'),\n",
       "    (130, 134, 'ING'),\n",
       "    (146, 152, 'ING')]}),\n",
       " ('They’re often served in a simple dashi broth, though other various iterations, both hot and cold, feature eggs, stewed meat, curry and even shrimp tempura.',\n",
       "  {'entities': [(106, 110, 'ING'),\n",
       "    (112, 123, 'ING'),\n",
       "    (125, 130, 'ING'),\n",
       "    (140, 154, 'ING')]}),\n",
       " ('there’s no better way to eat unagi in Japan than the way we ate it in Osaka sushi bars – full of flavor and on top of rice.',\n",
       "  {'entities': [(29, 34, 'FOOD'), (76, 81, 'FOOD'), (118, 122, 'ING')]}),\n",
       " ('However, pan frying is the most popular preparation with ramen shops and izakayas serving crispy pan fried dumplings across the country.',\n",
       "  {'entities': [(57, 62, 'FOOD'), (107, 116, 'FOOD')]}),\n",
       " ('Don’t add wasabi, soy sauce or ginger to sushi at any high end sushi counter in Japan.',\n",
       "  {'entities': [(41, 46, 'FOOD'),\n",
       "    (63, 68, 'FOOD'),\n",
       "    (10, 16, 'ING'),\n",
       "    (18, 27, 'ING'),\n",
       "    (31, 37, 'ING')]}),\n",
       " ('we returned multiple times to eat tasty Japanese Curry topped with fried tonkatsu pork.',\n",
       "  {'entities': [(49, 54, 'FOOD'), (73, 81, 'FOOD')]}),\n",
       " ('Both vegetarians and carnivores have been eating creamy, soft agedashi dōfu for centuries in Japan.',\n",
       "  {'entities': [(62, 75, 'FOOD')]}),\n",
       " ('Despite its shape and name, a typical taiyaki doesn’t taste fishy.',\n",
       "  {'entities': [(38, 45, 'FOOD')]}),\n",
       " ('We first tasted takoyaki in Hong Kong in 2009 before rediscovering the tasty octopus balls in Kyoto in 2013 and falling for them in Osaka in 2016.',\n",
       "  {'entities': [(16, 24, 'FOOD'), (77, 84, 'ING')]}),\n",
       " ('Okinawa soba is an anomaly. Even though soba translates to ‘buckwheat’, this regional soup features wheat noodles.',\n",
       "  {'entities': [(8, 12, 'FOOD'),\n",
       "    (40, 44, 'FOOD'),\n",
       "    (86, 90, 'FOOD'),\n",
       "    (106, 113, 'FOOD')]}),\n",
       " ('We ate enough onigiri to find our favorites which typically involved raw tuna or salmon.',\n",
       "  {'entities': [(14, 21, 'FOOD'), (73, 77, 'ING'), (81, 87, 'ING')]}),\n",
       " ('These octopuses have boiled quail eggs stuffed inside their heads.',\n",
       "  {'entities': [(28, 38, 'ING')]}),\n",
       " ('The Japanese made the dish their own by creating curries with short-grain rice as well as local meats and vegetables.',\n",
       "  {'entities': [(49, 56, 'FOOD'),\n",
       "    (74, 78, 'ING'),\n",
       "    (96, 101, 'ING'),\n",
       "    (106, 116, 'ING')]}),\n",
       " ('However, Japanese Curry is ridiculously popular in Japanese cities like Osaka and Tokyo.',\n",
       "  {'entities': [(18, 23, 'FOOD')]}),\n",
       " ('If you confuse udon with ramen, you’re not far off the mark.',\n",
       "  {'entities': [(15, 19, 'FOOD'), (25, 30, 'FOOD')]}),\n",
       " ('Unlike sushi, sashimi does NOT have any rice.',\n",
       "  {'entities': [(7, 12, 'FOOD'), (14, 21, 'FOOD'), (40, 44, 'ING')]}),\n",
       " ('Without a doubt, Takoyaki belongs in the Japanese street food hall of fame.',\n",
       "  {'entities': [(17, 25, 'FOOD')]}),\n",
       " ('Most food travelers don’t associate curry with Japan.',\n",
       "  {'entities': [(36, 41, 'FOOD')]}),\n",
       " ('Japanese restaurants serve soba noodles both hot and chilled, often with tsuyu dipping sauce.',\n",
       "  {'entities': [(27, 31, 'FOOD')]}),\n",
       " ('The Japanese learned the art of tempura from Portuguese missionaries who traveled to Japan in the 16th century.',\n",
       "  {'entities': [(32, 39, 'FOOD')]}),\n",
       " ('Some Japanese chefs add bonus items like shiitake mushrooms and shrimp.',\n",
       "  {'entities': [(41, 59, 'ING'), (64, 70, 'ING')]}),\n",
       " ('By adding sides of pickled vegetables and miso soup, we turned the cheap eats dish into a satisfying meal.',\n",
       "  {'entities': [(19, 37, 'ING'), (42, 51, 'ING')]}),\n",
       " ('But make no mistake, ramen and udon are as different as they are similar.',\n",
       "  {'entities': [(21, 26, 'FOOD'), (31, 35, 'FOOD')]}),\n",
       " ('Japan’s Okonomiyaki is a pancake unlike any other we’ve encountered in the world',\n",
       "  {'entities': [(8, 19, 'FOOD')]}),\n",
       " ('For starters, udon noodles are thicker in size and whiter in appearance.',\n",
       "  {'entities': [(14, 18, 'FOOD')]}),\n",
       " ('Typically filled with a ground pork mixture, gyoza dumplings can be boiled or deep fried.',\n",
       "  {'entities': [(45, 50, 'FOOD'), (31, 35, 'ING')]}),\n",
       " ('Why eat ‘meat on a stick’ at home when you can eat kushikatsu in Japan?',\n",
       "  {'entities': [(51, 61, 'FOOD'), (9, 13, 'ING')]}),\n",
       " ('Custard fans won’t want to miss chawanmushi in Japan.',\n",
       "  {'entities': [(32, 43, 'FOOD'), (0, 7, 'ING')]}),\n",
       " ('Another irony is that the taiyaki is isn’t savory like the other Japanese street food featured in this guide.',\n",
       "  {'entities': [(26, 33, 'FOOD')]}),\n",
       " ('While basic miso soup has tofu chunks and green onion slices, better versions add veggies and proteins to the mix.',\n",
       "  {'entities': [(17, 21, 'FOOD'),\n",
       "    (26, 30, 'ING'),\n",
       "    (42, 53, 'ING'),\n",
       "    (82, 89, 'ING'),\n",
       "    (94, 102, 'ING')]}),\n",
       " ('Sushi is simply sliced raw fish served atop a mound of steamed rice that’s been seasoned with vinegar.',\n",
       "  {'entities': [(0, 5, 'FOOD'),\n",
       "    (27, 31, 'ING'),\n",
       "    (63, 67, 'ING'),\n",
       "    (94, 101, 'ING')]}),\n",
       " ('Although tempura is deep fried, it doesn’t taste greasy and it’s not messy to eat.',\n",
       "  {'entities': [(9, 16, 'FOOD')]}),\n",
       " ('Some of our favorites dishes include yakitori, tamagoyaki (egg omelettes), kara-age (fried chicken) and fried potatoes.',\n",
       "  {'entities': [(37, 45, 'FOOD'),\n",
       "    (47, 57, 'FOOD'),\n",
       "    (75, 83, 'FOOD'),\n",
       "    (59, 62, 'ING'),\n",
       "    (91, 98, 'ING'),\n",
       "    (110, 118, 'ING')]}),\n",
       " ('Anthony Bourdain introduced Japanese yakitori to the western masses when he ate chicken skewers at Toriki in his Tokyo No Reservations episode.',\n",
       "  {'entities': [(37, 45, 'FOOD'), (80, 87, 'ING')]}),\n",
       " ('A katsu sando is a fried cutlet sandwich that’s often but not always made with pork.',\n",
       "  {'entities': [(2, 13, 'FOOD'), (25, 31, 'ING'), (79, 83, 'ING')]}),\n",
       " ('Agedashi dōfu lives up to a name that translates to fried tofu.',\n",
       "  {'entities': [(0, 13, 'FOOD'), (58, 62, 'ING')]}),\n",
       " ('Not surprising based on its name that literally translates to ‘grilled meat’, a yakiniku dinner involves grilling meat on a tableside griddle.',\n",
       "  {'entities': [(80, 88, 'FOOD'), (71, 75, 'ING'), (114, 118, 'ING')]}),\n",
       " ('Unlike Bourdain, we stuck with yakitori and skipped eating chicken sashimi during our meal.',\n",
       "  {'entities': [(31, 39, 'FOOD'), (67, 74, 'FOOD'), (59, 66, 'ING')]}),\n",
       " ('But, unlike ramen and soba, this dish features dumplings instead of noodles.',\n",
       "  {'entities': [(12, 17, 'FOOD'),\n",
       "    (22, 26, 'FOOD'),\n",
       "    (47, 56, 'ING'),\n",
       "    (68, 75, 'ING')]}),\n",
       " ('People outside of Japan tend to lump sushi and sashimi together.',\n",
       "  {'entities': [(37, 42, 'FOOD'), (47, 54, 'FOOD')]}),\n",
       " ('Part of the fun of eating takoyaki is to enjoy them piping hot, just off the grill.',\n",
       "  {'entities': [(26, 34, 'FOOD')]}),\n",
       " ('With this in mind, we took a special trip to a recommended tamago katsu sando at Kitashin Chisand in Osaka.',\n",
       "  {'entities': [(66, 77, 'FOOD')]}),\n",
       " ('Eating a sandwich filled with breaded and fried egg salad was a unique experience and one worthy of that special trip.',\n",
       "  {'entities': [(9, 17, 'FOOD'), (48, 57, 'ING')]}),\n",
       " ('For the uninitiated, typical bowls of ramen have savory broth, toothy wheat noodles, chāsū (pork), nori (seaweed), scallions and a softly boiled egg.',\n",
       "  {'entities': [(38, 43, 'FOOD'),\n",
       "    (76, 83, 'ING'),\n",
       "    (92, 96, 'ING'),\n",
       "    (105, 112, 'ING'),\n",
       "    (115, 124, 'ING'),\n",
       "    (145, 148, 'ING')]}),\n",
       " ('Starting with flavorful pork bone broth, Hakata ramen has thin noodles that could be quickly prepared for those original fishing customers.',\n",
       "  {'entities': [(48, 53, 'FOOD'), (24, 39, 'ING'), (63, 70, 'ING')]}),\n",
       " ('Simultaneously earthy and nutty, soba proves that ramen and udon aren’t the only noodles worth eating in Japan.',\n",
       "  {'entities': [(33, 37, 'FOOD'),\n",
       "    (50, 55, 'FOOD'),\n",
       "    (60, 64, 'FOOD'),\n",
       "    (81, 88, 'ING')]}),\n",
       " ('The better news is that Japanese breaded and fried pork cutlets taste good on their own, in soup or with rice.',\n",
       "  {'entities': [(51, 63, 'FOOD'), (92, 96, 'ING'), (105, 109, 'ING')]}),\n",
       " ('Not surprisingly, food historians trace the Okonomiyaki‘s origin to Osaka, Japan’s kitchen and a haven for junk food junkies.',\n",
       "  {'entities': []}),\n",
       " ('Coveted around the world for its fabulously fatty texture and umami-filled flavor, Wagyu beef is the meat to eat in Japan.',\n",
       "  {'entities': [(83, 88, 'FOOD')]}),\n",
       " ('these rice balls are a convenience store staple often filled with tasty bits and occasionally wrapped in nori (seaweed).',\n",
       "  {'entities': [(6, 10, 'ING'), (111, 118, 'ING')]}),\n",
       " ('One popular option is to eat unagi over a bowl of rice in a donburi dish called unadon.',\n",
       "  {'entities': [(29, 34, 'FOOD'), (80, 86, 'FOOD'), (50, 54, 'ING')]}),\n",
       " ('Our initial Japanese ramen experience at Ramen Street in Tokyo hooked us in but our ramen infatuation became a ramen obsession in Osaka',\n",
       "  {'entities': [(21, 26, 'FOOD'),\n",
       "    (41, 46, 'FOOD'),\n",
       "    (84, 89, 'FOOD'),\n",
       "    (111, 116, 'FOOD')]}),\n",
       " ('Not your typical lollipop, a tako tamago is a skewer topped with a glazed baby octopus, but not just any glazed baby octopus.',\n",
       "  {'entities': [(29, 40, 'FOOD'), (79, 86, 'ING'), (117, 124, 'ING')]}),\n",
       " ('Unlike desserts like Spanish flan and Portuguese pasteis de nata, this Japanese egg custard is more of a savory meal starter.',\n",
       "  {'entities': [(80, 83, 'ING')]}),\n",
       " ('Eating unagi (freshwater eel) at a sushi restaurant is a great alternative for people who don’t eat raw fish.',\n",
       "  {'entities': [(7, 12, 'FOOD'),\n",
       "    (35, 40, 'FOOD'),\n",
       "    (25, 28, 'ING'),\n",
       "    (104, 108, 'ING')]}),\n",
       " ('Yakitori became part of Japanese cuisine in the 19th century when street stalls starting grilling skewered chicken pieces over charcoal.',\n",
       "  {'entities': [(0, 8, 'FOOD'), (107, 114, 'ING')]}),\n",
       " ('Popular options include ebi nigiri (shrimp) hamachi (yellowtail), ikura (salmon roe), maguro nigiri (tuna), sake nigiri (salmon), toro (tuna belly) and uni (sea urchin).',\n",
       "  {'entities': [(36, 42, 'ING'),\n",
       "    (53, 63, 'ING'),\n",
       "    (73, 79, 'ING'),\n",
       "    (101, 105, 'ING'),\n",
       "    (121, 127, 'ING'),\n",
       "    (136, 146, 'ING'),\n",
       "    (157, 167, 'ING')]}),\n",
       " ('Not limited to thighs and breasts, Japanese chefs grill skewered chicken hearts and cartilage, among other parts, over white binchotan charcoal to various levels of doneness.',\n",
       "  {'entities': [(65, 72, 'ING')]}),\n",
       " ('Beyond eggs, chawanmushi ingredients include dashi, mirin and soy sauce, the same three ingredients in tentsuyu sauce.',\n",
       "  {'entities': [(13, 24, 'FOOD'),\n",
       "    (7, 11, 'ING'),\n",
       "    (45, 50, 'ING'),\n",
       "    (52, 57, 'ING'),\n",
       "    (62, 71, 'ING')]}),\n",
       " ('But this dish is more than its name implies since Japanese chefs add touches like spring onions and dried bonito flakes as well as savory tentsuyu broth.',\n",
       "  {'entities': [(82, 95, 'ING'), (100, 119, 'ING')]}),\n",
       " ('When we first encountered a tako tamago stand at the Nishiki Market in Kyoto, of course we had to taste this unique skewer.',\n",
       "  {'entities': [(28, 39, 'FOOD')]}),\n",
       " ('Other katsu sando varieties like chicken can be equally tasty while variations like fried wagyu elevate the katsu sando to luxury status.',\n",
       "  {'entities': [(6, 17, 'FOOD'),\n",
       "    (108, 119, 'FOOD'),\n",
       "    (33, 40, 'ING'),\n",
       "    (90, 95, 'ING')]}),\n",
       " ('Marbling provides the fatty texture that distinguishes Wagyu beef from beef produced in other Asian countries and throughout Europe.',\n",
       "  {'entities': [(55, 60, 'FOOD')]}),\n",
       " ('The good news is that it’s easy to find tonkatsu at snack stands, ramen bars and curry shops.',\n",
       "  {'entities': [(40, 48, 'FOOD'), (66, 71, 'FOOD'), (81, 86, 'FOOD')]}),\n",
       " ('Japanese chefs prepare tempura by precisely cutting ingredients like shrimp, shiitake mushrooms, lotus roots and shishito peppers before lightly coating them with batter and frying them in sesame oil.',\n",
       "  {'entities': [(23, 30, 'FOOD'),\n",
       "    (77, 95, 'ING'),\n",
       "    (97, 108, 'ING'),\n",
       "    (113, 129, 'ING'),\n",
       "    (189, 199, 'ING')]})]"
      ]
     },
     "execution_count": 37,
     "metadata": {},
     "output_type": "execute_result"
    }
   ],
   "source": [
    "training_data"
   ]
  },
  {
   "cell_type": "code",
   "execution_count": 38,
   "metadata": {},
   "outputs": [],
   "source": [
    "if 'ner' not in nlp.pipe_names:\n",
    "    ner = nlp.create_pipe('ner')\n",
    "    nlp.add_pipe(ner, last=True)\n",
    "else:\n",
    "    ner = nlp.get_pipe('ner')"
   ]
  },
  {
   "cell_type": "code",
   "execution_count": 39,
   "metadata": {},
   "outputs": [
    {
     "data": {
      "text/plain": [
       "1"
      ]
     },
     "execution_count": 39,
     "metadata": {},
     "output_type": "execute_result"
    }
   ],
   "source": [
    "ner.add_label(\"FOOD\")\n",
    "ner.add_label(\"ING\")"
   ]
  },
  {
   "cell_type": "code",
   "execution_count": 40,
   "metadata": {},
   "outputs": [],
   "source": [
    "for _, annotations in training_data:\n",
    "    for ent in annotations.get('entities'):\n",
    "        ner.add_label(ent[2])\n",
    "    \n",
    "other_pipe = [pipe for pipe in nlp.pipe_names if pipe != 'ner']"
   ]
  },
  {
   "cell_type": "code",
   "execution_count": 45,
   "metadata": {},
   "outputs": [],
   "source": [
    "import random\n",
    "from spacy.training.example import Example\n",
    "import warnings"
   ]
  },
  {
   "cell_type": "code",
   "execution_count": 46,
   "metadata": {},
   "outputs": [
    {
     "name": "stdout",
     "output_type": "stream",
     "text": [
      "Starting Iteration1\n",
      "Starting Iteration2\n",
      "Starting Iteration3\n",
      "Starting Iteration4\n",
      "Starting Iteration5\n",
      "Starting Iteration6\n",
      "Starting Iteration7\n",
      "Starting Iteration8\n",
      "Starting Iteration9\n",
      "Starting Iteration10\n",
      "Starting Iteration11\n",
      "Starting Iteration12\n",
      "Starting Iteration13\n",
      "Starting Iteration14\n",
      "Starting Iteration15\n",
      "Starting Iteration16\n",
      "Starting Iteration17\n",
      "Starting Iteration18\n",
      "Starting Iteration19\n",
      "Starting Iteration20\n",
      "Starting Iteration21\n",
      "Starting Iteration22\n",
      "Starting Iteration23\n",
      "Starting Iteration24\n",
      "Starting Iteration25\n",
      "Starting Iteration26\n",
      "Starting Iteration27\n",
      "Starting Iteration28\n",
      "Starting Iteration29\n",
      "Starting Iteration30\n"
     ]
    }
   ],
   "source": [
    "with nlp.disable_pipes(*other_pipe), warnings.catch_warnings():\n",
    "    optimizer = nlp.resume_training()\n",
    "\n",
    "for i in range(0, 30):\n",
    "    print(\"Starting Iteration \" + str(i + 1))\n",
    "    random.shuffle(training_data)\n",
    "    losses = {}\n",
    "    \n",
    "    for text, annotation in training_data:\n",
    "        doc = nlp.make_doc(text)\n",
    "        example = Example.from_dict(doc, annotation)\n",
    "        nlp.update([example], drop=0.2, sgd=optimizer, losses=losses)\n",
    "\n",
    "new_model = nlp"
   ]
  },
  {
   "cell_type": "code",
   "execution_count": 48,
   "metadata": {},
   "outputs": [
    {
     "data": {
      "text/html": [
       "<span class=\"tex2jax_ignore\"><div class=\"entities\" style=\"line-height: 2.5; direction: ltr\">From the popular makizushi, which is composed of \n",
       "<mark class=\"entity\" style=\"background: #ddd; padding: 0.45em 0.6em; margin: 0 0.25em; line-height: 1; border-radius: 0.35em;\">\n",
       "    fish\n",
       "    <span style=\"font-size: 0.8em; font-weight: bold; line-height: 1; border-radius: 0.35em; vertical-align: middle; margin-left: 0.5rem\">ING</span>\n",
       "</mark>\n",
       " or \n",
       "<mark class=\"entity\" style=\"background: #ddd; padding: 0.45em 0.6em; margin: 0 0.25em; line-height: 1; border-radius: 0.35em;\">\n",
       "    vegetables\n",
       "    <span style=\"font-size: 0.8em; font-weight: bold; line-height: 1; border-radius: 0.35em; vertical-align: middle; margin-left: 0.5rem\">ING</span>\n",
       "</mark>\n",
       " wrapped in \n",
       "<mark class=\"entity\" style=\"background: #ddd; padding: 0.45em 0.6em; margin: 0 0.25em; line-height: 1; border-radius: 0.35em;\">\n",
       "    rice\n",
       "    <span style=\"font-size: 0.8em; font-weight: bold; line-height: 1; border-radius: 0.35em; vertical-align: middle; margin-left: 0.5rem\">ING</span>\n",
       "</mark>\n",
       " and nori sheet, to \n",
       "<mark class=\"entity\" style=\"background: #ddd; padding: 0.45em 0.6em; margin: 0 0.25em; line-height: 1; border-radius: 0.35em;\">\n",
       "    temaki\n",
       "    <span style=\"font-size: 0.8em; font-weight: bold; line-height: 1; border-radius: 0.35em; vertical-align: middle; margin-left: 0.5rem\">FOOD</span>\n",
       "</mark>\n",
       ", a cone made of \n",
       "<mark class=\"entity\" style=\"background: #ddd; padding: 0.45em 0.6em; margin: 0 0.25em; line-height: 1; border-radius: 0.35em;\">\n",
       "    seaweed\n",
       "    <span style=\"font-size: 0.8em; font-weight: bold; line-height: 1; border-radius: 0.35em; vertical-align: middle; margin-left: 0.5rem\">FOOD</span>\n",
       "</mark>\n",
       " and filled with sushi rice, \n",
       "<mark class=\"entity\" style=\"background: #ddd; padding: 0.45em 0.6em; margin: 0 0.25em; line-height: 1; border-radius: 0.35em;\">\n",
       "    fish\n",
       "    <span style=\"font-size: 0.8em; font-weight: bold; line-height: 1; border-radius: 0.35em; vertical-align: middle; margin-left: 0.5rem\">ING</span>\n",
       "</mark>\n",
       " and \n",
       "<mark class=\"entity\" style=\"background: #ddd; padding: 0.45em 0.6em; margin: 0 0.25em; line-height: 1; border-radius: 0.35em;\">\n",
       "    veg\n",
       "    <span style=\"font-size: 0.8em; font-weight: bold; line-height: 1; border-radius: 0.35em; vertical-align: middle; margin-left: 0.5rem\">ING</span>\n",
       "</mark>\n",
       ".</div></span>"
      ],
      "text/plain": [
       "<IPython.core.display.HTML object>"
      ]
     },
     "metadata": {},
     "output_type": "display_data"
    }
   ],
   "source": [
    "test1 = \"From the popular makizushi, which is composed of fish or vegetables wrapped in rice and nori sheet, to temaki, a cone made of seaweed and filled with sushi rice, fish and veg.\"\n",
    "spacy.displacy.render(nlp(test1), style=\"ent\")"
   ]
  },
  {
   "cell_type": "code",
   "execution_count": 49,
   "metadata": {},
   "outputs": [
    {
     "data": {
      "text/html": [
       "<span class=\"tex2jax_ignore\"><div class=\"entities\" style=\"line-height: 2.5; direction: ltr\">From there, you’ll see the mixture of ingredients come together that include \n",
       "<mark class=\"entity\" style=\"background: #ddd; padding: 0.45em 0.6em; margin: 0 0.25em; line-height: 1; border-radius: 0.35em;\">\n",
       "    eggs\n",
       "    <span style=\"font-size: 0.8em; font-weight: bold; line-height: 1; border-radius: 0.35em; vertical-align: middle; margin-left: 0.5rem\">FOOD</span>\n",
       "</mark>\n",
       " spread over the pancake, \n",
       "<mark class=\"entity\" style=\"background: #ddd; padding: 0.45em 0.6em; margin: 0 0.25em; line-height: 1; border-radius: 0.35em;\">\n",
       "    cilantro\n",
       "    <span style=\"font-size: 0.8em; font-weight: bold; line-height: 1; border-radius: 0.35em; vertical-align: middle; margin-left: 0.5rem\">ING</span>\n",
       "</mark>\n",
       ", \n",
       "<mark class=\"entity\" style=\"background: #ddd; padding: 0.45em 0.6em; margin: 0 0.25em; line-height: 1; border-radius: 0.35em;\">\n",
       "    scallions\n",
       "    <span style=\"font-size: 0.8em; font-weight: bold; line-height: 1; border-radius: 0.35em; vertical-align: middle; margin-left: 0.5rem\">ING</span>\n",
       "</mark>\n",
       ", and a crunchy \n",
       "<mark class=\"entity\" style=\"background: #ddd; padding: 0.45em 0.6em; margin: 0 0.25em; line-height: 1; border-radius: 0.35em;\">\n",
       "    wonton\n",
       "    <span style=\"font-size: 0.8em; font-weight: bold; line-height: 1; border-radius: 0.35em; vertical-align: middle; margin-left: 0.5rem\">FOOD</span>\n",
       "</mark>\n",
       " in the middle.</div></span>"
      ],
      "text/plain": [
       "<IPython.core.display.HTML object>"
      ]
     },
     "metadata": {},
     "output_type": "display_data"
    }
   ],
   "source": [
    "test2 = \"From there, you’ll see the mixture of ingredients come together that include eggs spread over the pancake, cilantro, scallions, and a crunchy wonton in the middle.\"\n",
    "spacy.displacy.render(nlp(test2), style=\"ent\")"
   ]
  },
  {
   "cell_type": "code",
   "execution_count": 51,
   "metadata": {},
   "outputs": [
    {
     "name": "stderr",
     "output_type": "stream",
     "text": [
      "C:\\Users\\Kenny\\anaconda3\\envs\\456Project\\lib\\site-packages\\spacy\\displacy\\__init__.py:189: UserWarning: [W006] No entities to visualize found in Doc object. If this is surprising to you, make sure the Doc was processed using a model that supports named entity recognition, and check the `doc.ents` property manually if necessary.\n",
      "  warnings.warn(Warnings.W006)\n"
     ]
    },
    {
     "data": {
      "text/html": [
       "<span class=\"tex2jax_ignore\"><div class=\"entities\" style=\"line-height: 2.5; direction: ltr\">Brian used the Eclipse in his first race against Dominic Toretto.</div></span>"
      ],
      "text/plain": [
       "<IPython.core.display.HTML object>"
      ]
     },
     "metadata": {},
     "output_type": "display_data"
    }
   ],
   "source": [
    "test3 = \"Brian used the Eclipse in his first race against Dominic Toretto.\"\n",
    "spacy.displacy.render(nlp(test3), style=\"ent\")"
   ]
  },
  {
   "cell_type": "code",
   "execution_count": null,
   "metadata": {},
   "outputs": [],
   "source": []
  }
 ],
 "metadata": {
  "kernelspec": {
   "display_name": "456Project",
   "language": "python",
   "name": "456project"
  },
  "language_info": {
   "codemirror_mode": {
    "name": "ipython",
    "version": 3
   },
   "file_extension": ".py",
   "mimetype": "text/x-python",
   "name": "python",
   "nbconvert_exporter": "python",
   "pygments_lexer": "ipython3",
   "version": "3.8.8"
  }
 },
 "nbformat": 4,
 "nbformat_minor": 4
}
